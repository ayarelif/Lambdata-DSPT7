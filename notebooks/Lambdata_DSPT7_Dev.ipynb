{
  "nbformat": 4,
  "nbformat_minor": 0,
  "metadata": {
    "colab": {
      "name": "Lambdata_DSPT6_Dev.ipynb",
      "provenance": [],
      "collapsed_sections": []
    },
    "kernelspec": {
      "name": "python3",
      "display_name": "Python 3"
    }
  },
  "cells": [
    {
      "cell_type": "code",
      "metadata": {
        "id": "Gy2SN6o21sIM",
        "colab_type": "code",
        "colab": {}
      },
      "source": [
        "import pandas as pd\n",
        "from sklearn.model_selection import train_test_split\n",
        "from sklearn.datasets import load_wine\n",
        "from IPython.display import display"
      ],
      "execution_count": 13,
      "outputs": []
    },
    {
      "cell_type": "code",
      "metadata": {
        "id": "2iCwUajM2Bvq",
        "colab_type": "code",
        "colab": {}
      },
      "source": [
        "def train_validation_test_split(X, y,\n",
        "                                train_size=0.7, val_size=0.1,\n",
        "                                test_size=0.2, random_state=None,\n",
        "                                shuffle=True):\n",
        "    \"\"\"\n",
        "    This function is a utility wrapper around the Scikit-Learn train_test_split that splits arrays or \n",
        "    matrices into train, validation, and test subsets.\n",
        "\n",
        "    Args:\n",
        "        X (Numpy array or DataFrame): This is the first param.\n",
        "        y (Numpy array or DataFrame): This is a second param.\n",
        "        train_size (float or int): Proportion of the dataset to include in the train split (0 to 1).\n",
        "        val_size (float or int): Proportion of the dataset to include in the validation split (0 to 1).\n",
        "        test_size (float or int): Proportion of the dataset to include in the test split (0 to 1).\n",
        "        random_state (int): Controls the shuffling applied to the data before applying the split for reproducibility.\n",
        "        shuffle (bool): Whether or not to shuffle the data before splitting\n",
        "\n",
        "    Returns:\n",
        "        Train, test, and validation dataframes for features (X) and target (y). \n",
        "    \"\"\"\n",
        "    X_train_val, X_test, y_train_val, y_test = train_test_split(\n",
        "        X, y, test_size=test_size, random_state=random_state, shuffle=shuffle)\n",
        "\n",
        "    X_train, X_val, y_train, y_val = train_test_split(\n",
        "        X_train_val, y_train_val, test_size=val_size / (train_size + val_size),\n",
        "        random_state=random_state, shuffle=shuffle)\n",
        "\n",
        "    return X_train, X_val, X_test, y_train, y_val, y_test\n",
        "\n",
        "def print_split_summary(X_train, X_val, X_test):\n",
        "\n",
        "    print('######################## TRAINING DATA ########################')\n",
        "    print(f'X_train Shape: {X_train.shape}')\n",
        "    display(X_train.head())\n",
        "    display(X_train.describe(include='all').transpose())\n",
        "    print('')\n",
        "\n",
        "    print('######################## VALIDATION DATA ######################')\n",
        "    print(f'X_val Shape: {X_val.shape}')\n",
        "    display(X_val.head())\n",
        "    display(X_val.describe(include='all').transpose())\n",
        "    print('')\n",
        "\n",
        "    print('######################## TEST DATA ############################')\n",
        "    print(f'X_test Shape: {X_test.shape}')\n",
        "    display(X_test.head())\n",
        "    display(X_test.describe(include='all').transpose())\n",
        "    print('')"
      ],
      "execution_count": 15,
      "outputs": []
    },
    {
      "cell_type": "code",
      "metadata": {
        "id": "hSNND-_j13vz",
        "colab_type": "code",
        "colab": {
          "base_uri": "https://localhost:8080/",
          "height": 34
        },
        "outputId": "657a5622-69e0-4df0-b6c2-be7085cd8aa8"
      },
      "source": [
        "raw_data = load_wine()\n",
        "df = pd.DataFrame(data=raw_data['data'], columns=raw_data['feature_names'])\n",
        "df['target'] = raw_data['target']\n",
        "print(df.shape)"
      ],
      "execution_count": 16,
      "outputs": [
        {
          "output_type": "stream",
          "text": [
            "(178, 14)\n"
          ],
          "name": "stdout"
        }
      ]
    },
    {
      "cell_type": "code",
      "metadata": {
        "id": "XpHaTPBF15st",
        "colab_type": "code",
        "colab": {
          "base_uri": "https://localhost:8080/",
          "height": 34
        },
        "outputId": "ea0c8e66-71f9-4fbd-c43e-6aaf42e7288e"
      },
      "source": [
        "X_train, X_val, X_test, y_train, y_val, y_test = train_validation_test_split(\n",
        "    df[['alcohol', 'ash']], df['target'])\n",
        "print(X_train.shape, X_val.shape, X_test.shape)"
      ],
      "execution_count": 17,
      "outputs": [
        {
          "output_type": "stream",
          "text": [
            "(124, 2) (18, 2) (36, 2)\n"
          ],
          "name": "stdout"
        }
      ]
    },
    {
      "cell_type": "code",
      "metadata": {
        "id": "z2NqFCDs2Fhl",
        "colab_type": "code",
        "colab": {
          "base_uri": "https://localhost:8080/",
          "height": 1000
        },
        "outputId": "d583084d-8196-40da-9802-1528afd44e0c"
      },
      "source": [
        "print_split_summary(X_train, X_val, X_test)"
      ],
      "execution_count": 18,
      "outputs": [
        {
          "output_type": "stream",
          "text": [
            "######################## TRAINING DATA ########################\n",
            "X_train Shape: (124, 2)\n"
          ],
          "name": "stdout"
        },
        {
          "output_type": "display_data",
          "data": {
            "text/html": [
              "<div>\n",
              "<style scoped>\n",
              "    .dataframe tbody tr th:only-of-type {\n",
              "        vertical-align: middle;\n",
              "    }\n",
              "\n",
              "    .dataframe tbody tr th {\n",
              "        vertical-align: top;\n",
              "    }\n",
              "\n",
              "    .dataframe thead th {\n",
              "        text-align: right;\n",
              "    }\n",
              "</style>\n",
              "<table border=\"1\" class=\"dataframe\">\n",
              "  <thead>\n",
              "    <tr style=\"text-align: right;\">\n",
              "      <th></th>\n",
              "      <th>alcohol</th>\n",
              "      <th>ash</th>\n",
              "    </tr>\n",
              "  </thead>\n",
              "  <tbody>\n",
              "    <tr>\n",
              "      <th>91</th>\n",
              "      <td>12.00</td>\n",
              "      <td>2.42</td>\n",
              "    </tr>\n",
              "    <tr>\n",
              "      <th>5</th>\n",
              "      <td>14.20</td>\n",
              "      <td>2.45</td>\n",
              "    </tr>\n",
              "    <tr>\n",
              "      <th>105</th>\n",
              "      <td>12.42</td>\n",
              "      <td>2.27</td>\n",
              "    </tr>\n",
              "    <tr>\n",
              "      <th>58</th>\n",
              "      <td>13.72</td>\n",
              "      <td>2.50</td>\n",
              "    </tr>\n",
              "    <tr>\n",
              "      <th>76</th>\n",
              "      <td>13.03</td>\n",
              "      <td>1.71</td>\n",
              "    </tr>\n",
              "  </tbody>\n",
              "</table>\n",
              "</div>"
            ],
            "text/plain": [
              "     alcohol   ash\n",
              "91     12.00  2.42\n",
              "5      14.20  2.45\n",
              "105    12.42  2.27\n",
              "58     13.72  2.50\n",
              "76     13.03  1.71"
            ]
          },
          "metadata": {
            "tags": []
          }
        },
        {
          "output_type": "display_data",
          "data": {
            "text/html": [
              "<div>\n",
              "<style scoped>\n",
              "    .dataframe tbody tr th:only-of-type {\n",
              "        vertical-align: middle;\n",
              "    }\n",
              "\n",
              "    .dataframe tbody tr th {\n",
              "        vertical-align: top;\n",
              "    }\n",
              "\n",
              "    .dataframe thead th {\n",
              "        text-align: right;\n",
              "    }\n",
              "</style>\n",
              "<table border=\"1\" class=\"dataframe\">\n",
              "  <thead>\n",
              "    <tr style=\"text-align: right;\">\n",
              "      <th></th>\n",
              "      <th>count</th>\n",
              "      <th>mean</th>\n",
              "      <th>std</th>\n",
              "      <th>min</th>\n",
              "      <th>25%</th>\n",
              "      <th>50%</th>\n",
              "      <th>75%</th>\n",
              "      <th>max</th>\n",
              "    </tr>\n",
              "  </thead>\n",
              "  <tbody>\n",
              "    <tr>\n",
              "      <th>alcohol</th>\n",
              "      <td>124.0</td>\n",
              "      <td>13.030968</td>\n",
              "      <td>0.804589</td>\n",
              "      <td>11.41</td>\n",
              "      <td>12.4075</td>\n",
              "      <td>13.05</td>\n",
              "      <td>13.7225</td>\n",
              "      <td>14.83</td>\n",
              "    </tr>\n",
              "    <tr>\n",
              "      <th>ash</th>\n",
              "      <td>124.0</td>\n",
              "      <td>2.376532</td>\n",
              "      <td>0.270711</td>\n",
              "      <td>1.70</td>\n",
              "      <td>2.2175</td>\n",
              "      <td>2.36</td>\n",
              "      <td>2.6000</td>\n",
              "      <td>3.22</td>\n",
              "    </tr>\n",
              "  </tbody>\n",
              "</table>\n",
              "</div>"
            ],
            "text/plain": [
              "         count       mean       std    min      25%    50%      75%    max\n",
              "alcohol  124.0  13.030968  0.804589  11.41  12.4075  13.05  13.7225  14.83\n",
              "ash      124.0   2.376532  0.270711   1.70   2.2175   2.36   2.6000   3.22"
            ]
          },
          "metadata": {
            "tags": []
          }
        },
        {
          "output_type": "stream",
          "text": [
            "\n",
            "######################## VALIDATION DATA ######################\n",
            "X_val Shape: (18, 2)\n"
          ],
          "name": "stdout"
        },
        {
          "output_type": "display_data",
          "data": {
            "text/html": [
              "<div>\n",
              "<style scoped>\n",
              "    .dataframe tbody tr th:only-of-type {\n",
              "        vertical-align: middle;\n",
              "    }\n",
              "\n",
              "    .dataframe tbody tr th {\n",
              "        vertical-align: top;\n",
              "    }\n",
              "\n",
              "    .dataframe thead th {\n",
              "        text-align: right;\n",
              "    }\n",
              "</style>\n",
              "<table border=\"1\" class=\"dataframe\">\n",
              "  <thead>\n",
              "    <tr style=\"text-align: right;\">\n",
              "      <th></th>\n",
              "      <th>alcohol</th>\n",
              "      <th>ash</th>\n",
              "    </tr>\n",
              "  </thead>\n",
              "  <tbody>\n",
              "    <tr>\n",
              "      <th>97</th>\n",
              "      <td>12.29</td>\n",
              "      <td>1.98</td>\n",
              "    </tr>\n",
              "    <tr>\n",
              "      <th>160</th>\n",
              "      <td>12.36</td>\n",
              "      <td>2.38</td>\n",
              "    </tr>\n",
              "    <tr>\n",
              "      <th>39</th>\n",
              "      <td>14.22</td>\n",
              "      <td>2.51</td>\n",
              "    </tr>\n",
              "    <tr>\n",
              "      <th>6</th>\n",
              "      <td>14.39</td>\n",
              "      <td>2.45</td>\n",
              "    </tr>\n",
              "    <tr>\n",
              "      <th>114</th>\n",
              "      <td>12.08</td>\n",
              "      <td>2.50</td>\n",
              "    </tr>\n",
              "  </tbody>\n",
              "</table>\n",
              "</div>"
            ],
            "text/plain": [
              "     alcohol   ash\n",
              "97     12.29  1.98\n",
              "160    12.36  2.38\n",
              "39     14.22  2.51\n",
              "6      14.39  2.45\n",
              "114    12.08  2.50"
            ]
          },
          "metadata": {
            "tags": []
          }
        },
        {
          "output_type": "display_data",
          "data": {
            "text/html": [
              "<div>\n",
              "<style scoped>\n",
              "    .dataframe tbody tr th:only-of-type {\n",
              "        vertical-align: middle;\n",
              "    }\n",
              "\n",
              "    .dataframe tbody tr th {\n",
              "        vertical-align: top;\n",
              "    }\n",
              "\n",
              "    .dataframe thead th {\n",
              "        text-align: right;\n",
              "    }\n",
              "</style>\n",
              "<table border=\"1\" class=\"dataframe\">\n",
              "  <thead>\n",
              "    <tr style=\"text-align: right;\">\n",
              "      <th></th>\n",
              "      <th>count</th>\n",
              "      <th>mean</th>\n",
              "      <th>std</th>\n",
              "      <th>min</th>\n",
              "      <th>25%</th>\n",
              "      <th>50%</th>\n",
              "      <th>75%</th>\n",
              "      <th>max</th>\n",
              "    </tr>\n",
              "  </thead>\n",
              "  <tbody>\n",
              "    <tr>\n",
              "      <th>alcohol</th>\n",
              "      <td>18.0</td>\n",
              "      <td>13.117222</td>\n",
              "      <td>0.81059</td>\n",
              "      <td>12.00</td>\n",
              "      <td>12.3375</td>\n",
              "      <td>13.195</td>\n",
              "      <td>13.7025</td>\n",
              "      <td>14.39</td>\n",
              "    </tr>\n",
              "    <tr>\n",
              "      <th>ash</th>\n",
              "      <td>18.0</td>\n",
              "      <td>2.296111</td>\n",
              "      <td>0.21669</td>\n",
              "      <td>1.94</td>\n",
              "      <td>2.1225</td>\n",
              "      <td>2.360</td>\n",
              "      <td>2.4450</td>\n",
              "      <td>2.60</td>\n",
              "    </tr>\n",
              "  </tbody>\n",
              "</table>\n",
              "</div>"
            ],
            "text/plain": [
              "         count       mean      std    min      25%     50%      75%    max\n",
              "alcohol   18.0  13.117222  0.81059  12.00  12.3375  13.195  13.7025  14.39\n",
              "ash       18.0   2.296111  0.21669   1.94   2.1225   2.360   2.4450   2.60"
            ]
          },
          "metadata": {
            "tags": []
          }
        },
        {
          "output_type": "stream",
          "text": [
            "\n",
            "######################## TEST DATA ############################\n",
            "X_test Shape: (36, 2)\n"
          ],
          "name": "stdout"
        },
        {
          "output_type": "display_data",
          "data": {
            "text/html": [
              "<div>\n",
              "<style scoped>\n",
              "    .dataframe tbody tr th:only-of-type {\n",
              "        vertical-align: middle;\n",
              "    }\n",
              "\n",
              "    .dataframe tbody tr th {\n",
              "        vertical-align: top;\n",
              "    }\n",
              "\n",
              "    .dataframe thead th {\n",
              "        text-align: right;\n",
              "    }\n",
              "</style>\n",
              "<table border=\"1\" class=\"dataframe\">\n",
              "  <thead>\n",
              "    <tr style=\"text-align: right;\">\n",
              "      <th></th>\n",
              "      <th>alcohol</th>\n",
              "      <th>ash</th>\n",
              "    </tr>\n",
              "  </thead>\n",
              "  <tbody>\n",
              "    <tr>\n",
              "      <th>59</th>\n",
              "      <td>12.37</td>\n",
              "      <td>1.36</td>\n",
              "    </tr>\n",
              "    <tr>\n",
              "      <th>36</th>\n",
              "      <td>13.28</td>\n",
              "      <td>2.84</td>\n",
              "    </tr>\n",
              "    <tr>\n",
              "      <th>174</th>\n",
              "      <td>13.40</td>\n",
              "      <td>2.48</td>\n",
              "    </tr>\n",
              "    <tr>\n",
              "      <th>101</th>\n",
              "      <td>12.60</td>\n",
              "      <td>1.90</td>\n",
              "    </tr>\n",
              "    <tr>\n",
              "      <th>109</th>\n",
              "      <td>11.61</td>\n",
              "      <td>2.70</td>\n",
              "    </tr>\n",
              "  </tbody>\n",
              "</table>\n",
              "</div>"
            ],
            "text/plain": [
              "     alcohol   ash\n",
              "59     12.37  1.36\n",
              "36     13.28  2.84\n",
              "174    13.40  2.48\n",
              "101    12.60  1.90\n",
              "109    11.61  2.70"
            ]
          },
          "metadata": {
            "tags": []
          }
        },
        {
          "output_type": "display_data",
          "data": {
            "text/html": [
              "<div>\n",
              "<style scoped>\n",
              "    .dataframe tbody tr th:only-of-type {\n",
              "        vertical-align: middle;\n",
              "    }\n",
              "\n",
              "    .dataframe tbody tr th {\n",
              "        vertical-align: top;\n",
              "    }\n",
              "\n",
              "    .dataframe thead th {\n",
              "        text-align: right;\n",
              "    }\n",
              "</style>\n",
              "<table border=\"1\" class=\"dataframe\">\n",
              "  <thead>\n",
              "    <tr style=\"text-align: right;\">\n",
              "      <th></th>\n",
              "      <th>count</th>\n",
              "      <th>mean</th>\n",
              "      <th>std</th>\n",
              "      <th>min</th>\n",
              "      <th>25%</th>\n",
              "      <th>50%</th>\n",
              "      <th>75%</th>\n",
              "      <th>max</th>\n",
              "    </tr>\n",
              "  </thead>\n",
              "  <tbody>\n",
              "    <tr>\n",
              "      <th>alcohol</th>\n",
              "      <td>36.0</td>\n",
              "      <td>12.837778</td>\n",
              "      <td>0.837425</td>\n",
              "      <td>11.03</td>\n",
              "      <td>12.2375</td>\n",
              "      <td>12.775</td>\n",
              "      <td>13.325</td>\n",
              "      <td>14.75</td>\n",
              "    </tr>\n",
              "    <tr>\n",
              "      <th>ash</th>\n",
              "      <td>36.0</td>\n",
              "      <td>2.367222</td>\n",
              "      <td>0.312040</td>\n",
              "      <td>1.36</td>\n",
              "      <td>2.2300</td>\n",
              "      <td>2.360</td>\n",
              "      <td>2.540</td>\n",
              "      <td>3.23</td>\n",
              "    </tr>\n",
              "  </tbody>\n",
              "</table>\n",
              "</div>"
            ],
            "text/plain": [
              "         count       mean       std    min      25%     50%     75%    max\n",
              "alcohol   36.0  12.837778  0.837425  11.03  12.2375  12.775  13.325  14.75\n",
              "ash       36.0   2.367222  0.312040   1.36   2.2300   2.360   2.540   3.23"
            ]
          },
          "metadata": {
            "tags": []
          }
        },
        {
          "output_type": "stream",
          "text": [
            "\n"
          ],
          "name": "stdout"
        }
      ]
    },
    {
      "cell_type": "markdown",
      "metadata": {
        "id": "zwzyhkqK4cRz",
        "colab_type": "text"
      },
      "source": [
        "## Refactor Functions to Class\n"
      ]
    },
    {
      "cell_type": "code",
      "metadata": {
        "id": "j7Lo7T4j2J24",
        "colab_type": "code",
        "colab": {}
      },
      "source": [
        "class My_Data_Splitter():\n",
        "    def __init__(self, df, features, target):\n",
        "        self.df = df\n",
        "        self.features = features\n",
        "        self.target = target\n",
        "        self.X = df[features]\n",
        "        self.y = df[target]\n",
        "        \n",
        "    def train_validation_test_split(self,\n",
        "                                    train_size=0.7, val_size=0.1,\n",
        "                                    test_size=0.2, random_state=None,\n",
        "                                    shuffle=True):\n",
        "        \"\"\"\n",
        "        This function is a utility wrapper around the Scikit-Learn train_test_split that splits arrays or \n",
        "        matrices into train, validation, and test subsets.\n",
        "\n",
        "        Args:\n",
        "            X (Numpy array or DataFrame): This is the first param.\n",
        "            y (Numpy array or DataFrame): This is a second param.\n",
        "            train_size (float or int): Proportion of the dataset to include in the train split (0 to 1).\n",
        "            val_size (float or int): Proportion of the dataset to include in the validation split (0 to 1).\n",
        "            test_size (float or int): Proportion of the dataset to include in the test split (0 to 1).\n",
        "            random_state (int): Controls the shuffling applied to the data before applying the split for reproducibility.\n",
        "            shuffle (bool): Whether or not to shuffle the data before splitting\n",
        "\n",
        "        Returns:\n",
        "            Train, test, and validation dataframes for features (X) and target (y). \n",
        "        \"\"\"\n",
        "        X_train_val, X_test, y_train_val, y_test = train_test_split(\n",
        "            self.X, self.y, test_size=test_size, random_state=random_state, shuffle=shuffle)\n",
        "\n",
        "        X_train, X_val, y_train, y_val = train_test_split(\n",
        "            X_train_val, y_train_val, test_size=val_size / (train_size + val_size),\n",
        "            random_state=random_state, shuffle=shuffle)\n",
        "\n",
        "        return X_train, X_val, X_test, y_train, y_val, y_test\n",
        "\n",
        "    def print_split_summary(self, X_train, X_val, X_test):\n",
        "\n",
        "        print('######################## TRAINING DATA ########################')\n",
        "        print(f'X_train Shape: {X_train.shape}')\n",
        "        display(X_train.head())\n",
        "        display(X_train.describe(include='all').transpose())\n",
        "        print('')\n",
        "\n",
        "        print('######################## VALIDATION DATA ######################')\n",
        "        print(f'X_val Shape: {X_val.shape}')\n",
        "        display(X_val.head())\n",
        "        display(X_val.describe(include='all').transpose())\n",
        "        print('')\n",
        "\n",
        "        print('######################## TEST DATA ############################')\n",
        "        print(f'X_test Shape: {X_test.shape}')\n",
        "        display(X_test.head())\n",
        "        display(X_test.describe(include='all').transpose())\n",
        "        print('')"
      ],
      "execution_count": 33,
      "outputs": []
    },
    {
      "cell_type": "code",
      "metadata": {
        "id": "jPAzNXrW41Lu",
        "colab_type": "code",
        "colab": {
          "base_uri": "https://localhost:8080/",
          "height": 1000
        },
        "outputId": "3d7add16-d421-4424-a818-a96cb5629500"
      },
      "source": [
        "splitter = My_Data_Splitter(df=df, features=['alcohol', 'ash'], target='target')\n",
        "X_train, X_val, X_test, y_train, y_val, y_test = splitter.train_validation_test_split()\n",
        "splitter.print_split_summary(X_train, X_val, X_test)"
      ],
      "execution_count": 34,
      "outputs": [
        {
          "output_type": "stream",
          "text": [
            "######################## TRAINING DATA ########################\n",
            "X_train Shape: (124, 2)\n"
          ],
          "name": "stdout"
        },
        {
          "output_type": "display_data",
          "data": {
            "text/html": [
              "<div>\n",
              "<style scoped>\n",
              "    .dataframe tbody tr th:only-of-type {\n",
              "        vertical-align: middle;\n",
              "    }\n",
              "\n",
              "    .dataframe tbody tr th {\n",
              "        vertical-align: top;\n",
              "    }\n",
              "\n",
              "    .dataframe thead th {\n",
              "        text-align: right;\n",
              "    }\n",
              "</style>\n",
              "<table border=\"1\" class=\"dataframe\">\n",
              "  <thead>\n",
              "    <tr style=\"text-align: right;\">\n",
              "      <th></th>\n",
              "      <th>alcohol</th>\n",
              "      <th>ash</th>\n",
              "    </tr>\n",
              "  </thead>\n",
              "  <tbody>\n",
              "    <tr>\n",
              "      <th>76</th>\n",
              "      <td>13.03</td>\n",
              "      <td>1.71</td>\n",
              "    </tr>\n",
              "    <tr>\n",
              "      <th>111</th>\n",
              "      <td>12.52</td>\n",
              "      <td>2.17</td>\n",
              "    </tr>\n",
              "    <tr>\n",
              "      <th>149</th>\n",
              "      <td>13.08</td>\n",
              "      <td>2.36</td>\n",
              "    </tr>\n",
              "    <tr>\n",
              "      <th>85</th>\n",
              "      <td>12.67</td>\n",
              "      <td>2.24</td>\n",
              "    </tr>\n",
              "    <tr>\n",
              "      <th>118</th>\n",
              "      <td>12.77</td>\n",
              "      <td>1.98</td>\n",
              "    </tr>\n",
              "  </tbody>\n",
              "</table>\n",
              "</div>"
            ],
            "text/plain": [
              "     alcohol   ash\n",
              "76     13.03  1.71\n",
              "111    12.52  2.17\n",
              "149    13.08  2.36\n",
              "85     12.67  2.24\n",
              "118    12.77  1.98"
            ]
          },
          "metadata": {
            "tags": []
          }
        },
        {
          "output_type": "display_data",
          "data": {
            "text/html": [
              "<div>\n",
              "<style scoped>\n",
              "    .dataframe tbody tr th:only-of-type {\n",
              "        vertical-align: middle;\n",
              "    }\n",
              "\n",
              "    .dataframe tbody tr th {\n",
              "        vertical-align: top;\n",
              "    }\n",
              "\n",
              "    .dataframe thead th {\n",
              "        text-align: right;\n",
              "    }\n",
              "</style>\n",
              "<table border=\"1\" class=\"dataframe\">\n",
              "  <thead>\n",
              "    <tr style=\"text-align: right;\">\n",
              "      <th></th>\n",
              "      <th>count</th>\n",
              "      <th>mean</th>\n",
              "      <th>std</th>\n",
              "      <th>min</th>\n",
              "      <th>25%</th>\n",
              "      <th>50%</th>\n",
              "      <th>75%</th>\n",
              "      <th>max</th>\n",
              "    </tr>\n",
              "  </thead>\n",
              "  <tbody>\n",
              "    <tr>\n",
              "      <th>alcohol</th>\n",
              "      <td>124.0</td>\n",
              "      <td>12.925000</td>\n",
              "      <td>0.803584</td>\n",
              "      <td>11.03</td>\n",
              "      <td>12.29</td>\n",
              "      <td>12.975</td>\n",
              "      <td>13.5125</td>\n",
              "      <td>14.83</td>\n",
              "    </tr>\n",
              "    <tr>\n",
              "      <th>ash</th>\n",
              "      <td>124.0</td>\n",
              "      <td>2.355081</td>\n",
              "      <td>0.280802</td>\n",
              "      <td>1.36</td>\n",
              "      <td>2.20</td>\n",
              "      <td>2.350</td>\n",
              "      <td>2.5450</td>\n",
              "      <td>3.23</td>\n",
              "    </tr>\n",
              "  </tbody>\n",
              "</table>\n",
              "</div>"
            ],
            "text/plain": [
              "         count       mean       std    min    25%     50%      75%    max\n",
              "alcohol  124.0  12.925000  0.803584  11.03  12.29  12.975  13.5125  14.83\n",
              "ash      124.0   2.355081  0.280802   1.36   2.20   2.350   2.5450   3.23"
            ]
          },
          "metadata": {
            "tags": []
          }
        },
        {
          "output_type": "stream",
          "text": [
            "\n",
            "######################## VALIDATION DATA ######################\n",
            "X_val Shape: (18, 2)\n"
          ],
          "name": "stdout"
        },
        {
          "output_type": "display_data",
          "data": {
            "text/html": [
              "<div>\n",
              "<style scoped>\n",
              "    .dataframe tbody tr th:only-of-type {\n",
              "        vertical-align: middle;\n",
              "    }\n",
              "\n",
              "    .dataframe tbody tr th {\n",
              "        vertical-align: top;\n",
              "    }\n",
              "\n",
              "    .dataframe thead th {\n",
              "        text-align: right;\n",
              "    }\n",
              "</style>\n",
              "<table border=\"1\" class=\"dataframe\">\n",
              "  <thead>\n",
              "    <tr style=\"text-align: right;\">\n",
              "      <th></th>\n",
              "      <th>alcohol</th>\n",
              "      <th>ash</th>\n",
              "    </tr>\n",
              "  </thead>\n",
              "  <tbody>\n",
              "    <tr>\n",
              "      <th>49</th>\n",
              "      <td>13.94</td>\n",
              "      <td>2.27</td>\n",
              "    </tr>\n",
              "    <tr>\n",
              "      <th>137</th>\n",
              "      <td>12.53</td>\n",
              "      <td>2.64</td>\n",
              "    </tr>\n",
              "    <tr>\n",
              "      <th>112</th>\n",
              "      <td>11.76</td>\n",
              "      <td>2.92</td>\n",
              "    </tr>\n",
              "    <tr>\n",
              "      <th>128</th>\n",
              "      <td>12.37</td>\n",
              "      <td>2.30</td>\n",
              "    </tr>\n",
              "    <tr>\n",
              "      <th>164</th>\n",
              "      <td>13.78</td>\n",
              "      <td>2.30</td>\n",
              "    </tr>\n",
              "  </tbody>\n",
              "</table>\n",
              "</div>"
            ],
            "text/plain": [
              "     alcohol   ash\n",
              "49     13.94  2.27\n",
              "137    12.53  2.64\n",
              "112    11.76  2.92\n",
              "128    12.37  2.30\n",
              "164    13.78  2.30"
            ]
          },
          "metadata": {
            "tags": []
          }
        },
        {
          "output_type": "display_data",
          "data": {
            "text/html": [
              "<div>\n",
              "<style scoped>\n",
              "    .dataframe tbody tr th:only-of-type {\n",
              "        vertical-align: middle;\n",
              "    }\n",
              "\n",
              "    .dataframe tbody tr th {\n",
              "        vertical-align: top;\n",
              "    }\n",
              "\n",
              "    .dataframe thead th {\n",
              "        text-align: right;\n",
              "    }\n",
              "</style>\n",
              "<table border=\"1\" class=\"dataframe\">\n",
              "  <thead>\n",
              "    <tr style=\"text-align: right;\">\n",
              "      <th></th>\n",
              "      <th>count</th>\n",
              "      <th>mean</th>\n",
              "      <th>std</th>\n",
              "      <th>min</th>\n",
              "      <th>25%</th>\n",
              "      <th>50%</th>\n",
              "      <th>75%</th>\n",
              "      <th>max</th>\n",
              "    </tr>\n",
              "  </thead>\n",
              "  <tbody>\n",
              "    <tr>\n",
              "      <th>alcohol</th>\n",
              "      <td>18.0</td>\n",
              "      <td>13.164444</td>\n",
              "      <td>0.873655</td>\n",
              "      <td>11.76</td>\n",
              "      <td>12.3825</td>\n",
              "      <td>13.165</td>\n",
              "      <td>13.8625</td>\n",
              "      <td>14.37</td>\n",
              "    </tr>\n",
              "    <tr>\n",
              "      <th>ash</th>\n",
              "      <td>18.0</td>\n",
              "      <td>2.448889</td>\n",
              "      <td>0.277338</td>\n",
              "      <td>1.70</td>\n",
              "      <td>2.3000</td>\n",
              "      <td>2.465</td>\n",
              "      <td>2.6175</td>\n",
              "      <td>2.92</td>\n",
              "    </tr>\n",
              "  </tbody>\n",
              "</table>\n",
              "</div>"
            ],
            "text/plain": [
              "         count       mean       std    min      25%     50%      75%    max\n",
              "alcohol   18.0  13.164444  0.873655  11.76  12.3825  13.165  13.8625  14.37\n",
              "ash       18.0   2.448889  0.277338   1.70   2.3000   2.465   2.6175   2.92"
            ]
          },
          "metadata": {
            "tags": []
          }
        },
        {
          "output_type": "stream",
          "text": [
            "\n",
            "######################## TEST DATA ############################\n",
            "X_test Shape: (36, 2)\n"
          ],
          "name": "stdout"
        },
        {
          "output_type": "display_data",
          "data": {
            "text/html": [
              "<div>\n",
              "<style scoped>\n",
              "    .dataframe tbody tr th:only-of-type {\n",
              "        vertical-align: middle;\n",
              "    }\n",
              "\n",
              "    .dataframe tbody tr th {\n",
              "        vertical-align: top;\n",
              "    }\n",
              "\n",
              "    .dataframe thead th {\n",
              "        text-align: right;\n",
              "    }\n",
              "</style>\n",
              "<table border=\"1\" class=\"dataframe\">\n",
              "  <thead>\n",
              "    <tr style=\"text-align: right;\">\n",
              "      <th></th>\n",
              "      <th>alcohol</th>\n",
              "      <th>ash</th>\n",
              "    </tr>\n",
              "  </thead>\n",
              "  <tbody>\n",
              "    <tr>\n",
              "      <th>61</th>\n",
              "      <td>12.64</td>\n",
              "      <td>2.02</td>\n",
              "    </tr>\n",
              "    <tr>\n",
              "      <th>146</th>\n",
              "      <td>13.88</td>\n",
              "      <td>2.23</td>\n",
              "    </tr>\n",
              "    <tr>\n",
              "      <th>56</th>\n",
              "      <td>14.22</td>\n",
              "      <td>2.30</td>\n",
              "    </tr>\n",
              "    <tr>\n",
              "      <th>15</th>\n",
              "      <td>13.63</td>\n",
              "      <td>2.70</td>\n",
              "    </tr>\n",
              "    <tr>\n",
              "      <th>63</th>\n",
              "      <td>12.37</td>\n",
              "      <td>2.16</td>\n",
              "    </tr>\n",
              "  </tbody>\n",
              "</table>\n",
              "</div>"
            ],
            "text/plain": [
              "     alcohol   ash\n",
              "61     12.64  2.02\n",
              "146    13.88  2.23\n",
              "56     14.22  2.30\n",
              "15     13.63  2.70\n",
              "63     12.37  2.16"
            ]
          },
          "metadata": {
            "tags": []
          }
        },
        {
          "output_type": "display_data",
          "data": {
            "text/html": [
              "<div>\n",
              "<style scoped>\n",
              "    .dataframe tbody tr th:only-of-type {\n",
              "        vertical-align: middle;\n",
              "    }\n",
              "\n",
              "    .dataframe tbody tr th {\n",
              "        vertical-align: top;\n",
              "    }\n",
              "\n",
              "    .dataframe thead th {\n",
              "        text-align: right;\n",
              "    }\n",
              "</style>\n",
              "<table border=\"1\" class=\"dataframe\">\n",
              "  <thead>\n",
              "    <tr style=\"text-align: right;\">\n",
              "      <th></th>\n",
              "      <th>count</th>\n",
              "      <th>mean</th>\n",
              "      <th>std</th>\n",
              "      <th>min</th>\n",
              "      <th>25%</th>\n",
              "      <th>50%</th>\n",
              "      <th>75%</th>\n",
              "      <th>max</th>\n",
              "    </tr>\n",
              "  </thead>\n",
              "  <tbody>\n",
              "    <tr>\n",
              "      <th>alcohol</th>\n",
              "      <td>36.0</td>\n",
              "      <td>13.179167</td>\n",
              "      <td>0.791232</td>\n",
              "      <td>11.45</td>\n",
              "      <td>12.5675</td>\n",
              "      <td>13.215</td>\n",
              "      <td>13.8425</td>\n",
              "      <td>14.30</td>\n",
              "    </tr>\n",
              "    <tr>\n",
              "      <th>ash</th>\n",
              "      <td>36.0</td>\n",
              "      <td>2.364722</td>\n",
              "      <td>0.249416</td>\n",
              "      <td>1.70</td>\n",
              "      <td>2.2375</td>\n",
              "      <td>2.370</td>\n",
              "      <td>2.5225</td>\n",
              "      <td>2.86</td>\n",
              "    </tr>\n",
              "  </tbody>\n",
              "</table>\n",
              "</div>"
            ],
            "text/plain": [
              "         count       mean       std    min      25%     50%      75%    max\n",
              "alcohol   36.0  13.179167  0.791232  11.45  12.5675  13.215  13.8425  14.30\n",
              "ash       36.0   2.364722  0.249416   1.70   2.2375   2.370   2.5225   2.86"
            ]
          },
          "metadata": {
            "tags": []
          }
        },
        {
          "output_type": "stream",
          "text": [
            "\n"
          ],
          "name": "stdout"
        }
      ]
    },
    {
      "cell_type": "code",
      "metadata": {
        "id": "JmRhbXYF5EMy",
        "colab_type": "code",
        "colab": {}
      },
      "source": [
        ""
      ],
      "execution_count": null,
      "outputs": []
    }
  ]
}